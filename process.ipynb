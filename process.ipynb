{
 "cells": [
  {
   "cell_type": "code",
   "execution_count": 28,
   "metadata": {},
   "outputs": [
    {
     "name": "stdout",
     "output_type": "stream",
     "text": [
      "\n",
      "Data loaded\n"
     ]
    }
   ],
   "source": [
    "with open(\"bin/debug/net6.0/log.txt\",\"r\") as file:\n",
    "    data = file.read()\n",
    "lines = data.split(\"\\n\")\n",
    "tupledLines = []\n",
    "for i in lines:\n",
    "    list = i.split(', ')\n",
    "    try:\n",
    "        tupled = (list[0],list[1],list[2])\n",
    "    except IndexError:\n",
    "        print(i)\n",
    "    tupledLines.append(tupled)\n",
    "print(\"Data loaded\")"
   ]
  },
  {
   "cell_type": "code",
   "execution_count": 29,
   "metadata": {},
   "outputs": [
    {
     "name": "stdout",
     "output_type": "stream",
     "text": [
      "\n"
     ]
    }
   ],
   "source": [
    "heartbeat_hash = {}\n",
    "web_hash = {}\n",
    "router_hash = {}\n",
    "ping_hash = {}\n",
    "for t in tupledLines:\n",
    "    task = t[0]\n",
    "    start_time = t[1]\n",
    "    duration = t[2]\n",
    "    if task == \"Heart Beat\":\n",
    "        heartbeat_hash[start_time] = duration\n",
    "    elif task == \"Web\":\n",
    "        web_hash[start_time] = duration\n",
    "    elif task == \"Router\":\n",
    "        router_hash[start_time] = duration\n",
    "    elif task == \"Ping\":\n",
    "        ping_hash[start_time] = duration\n",
    "    else:\n",
    "        print(f\"Unknown task: {task}\")\n",
    "print(\"\")"
   ]
  },
  {
   "cell_type": "code",
   "execution_count": 30,
   "metadata": {},
   "outputs": [],
   "source": [
    "combined_hash = {}\n",
    "for st in heartbeat_hash.keys():\n",
    "    heartbeat = heartbeat_hash[st]\n",
    "    try:\n",
    "        ping = ping_hash[st]\n",
    "    except KeyError:\n",
    "        ping = None\n",
    "    try:\n",
    "        router = router_hash[st]\n",
    "    except KeyError:\n",
    "        router = None\n",
    "    try:\n",
    "        web = web_hash[st]\n",
    "    except KeyError:\n",
    "        web = None\n",
    "    t = (heartbeat, ping, web)\n",
    "    #t = (heartbeat,router,ping,web)\n",
    "    if t == (\"0\",None,None,None) or t == (\"0\",None,None):\n",
    "        print(f\"Dropping row {st}\")\n",
    "    else:\n",
    "        combined_hash[st] = t\n",
    "    \n"
   ]
  },
  {
   "cell_type": "code",
   "execution_count": 31,
   "metadata": {},
   "outputs": [
    {
     "data": {
      "text/plain": [
       "45"
      ]
     },
     "execution_count": 31,
     "metadata": {},
     "output_type": "execute_result"
    }
   ],
   "source": [
    "len(combined_hash.keys())"
   ]
  },
  {
   "cell_type": "code",
   "execution_count": 32,
   "metadata": {},
   "outputs": [],
   "source": [
    "from datetime import timezone\n",
    "from datetime import datetime\n",
    "\n",
    "heartbeat_dur = []\n",
    "ping_dur = []\n",
    "web_dur = []\n",
    "\n",
    "for k in combined_hash.keys():\n",
    "    (heartbeat,ping,web) = combined_hash[k]\n",
    "    st = int(k)/1000\n",
    "    heartbeat = int(heartbeat)\n",
    "    start_time = datetime.fromtimestamp(st)\n",
    "    # print(start_time)\n",
    "    if not ping:\n",
    "        ping = 30000\n",
    "    else:\n",
    "        ping = int(ping)\n",
    "    if not web:\n",
    "        web = 30000\n",
    "    else:\n",
    "        web = int(web)\n",
    "    heartbeat_dur.append(heartbeat)\n",
    "    ping_dur.append(ping)\n",
    "    web_dur.append(web)\n"
   ]
  },
  {
   "cell_type": "code",
   "execution_count": 33,
   "metadata": {},
   "outputs": [],
   "source": [
    "import seaborn"
   ]
  },
  {
   "cell_type": "code",
   "execution_count": 34,
   "metadata": {},
   "outputs": [
    {
     "name": "stderr",
     "output_type": "stream",
     "text": [
      "C:\\Users\\corri\\AppData\\Local\\Packages\\PythonSoftwareFoundation.Python.3.9_qbz5n2kfra8p0\\LocalCache\\local-packages\\Python39\\site-packages\\seaborn\\distributions.py:2619: FutureWarning: `distplot` is a deprecated function and will be removed in a future version. Please adapt your code to use either `displot` (a figure-level function with similar flexibility) or `histplot` (an axes-level function for histograms).\n",
      "  warnings.warn(msg, FutureWarning)\n"
     ]
    },
    {
     "data": {
      "text/plain": [
       "<AxesSubplot:ylabel='Density'>"
      ]
     },
     "execution_count": 34,
     "metadata": {},
     "output_type": "execute_result"
    },
    {
     "data": {
      "image/png": "[encoded data removed]",
      "text/plain": [
       "<Figure size 432x288 with 1 Axes>"
      ]
     },
     "metadata": {
      "needs_background": "light"
     },
     "output_type": "display_data"
    }
   ],
   "source": [
    "seaborn.distplot(web_dur)"
   ]
  },
  {
   "cell_type": "code",
   "execution_count": 35,
   "metadata": {},
   "outputs": [
    {
     "name": "stderr",
     "output_type": "stream",
     "text": [
      "C:\\Users\\corri\\AppData\\Local\\Packages\\PythonSoftwareFoundation.Python.3.9_qbz5n2kfra8p0\\LocalCache\\local-packages\\Python39\\site-packages\\seaborn\\distributions.py:2619: FutureWarning: `distplot` is a deprecated function and will be removed in a future version. Please adapt your code to use either `displot` (a figure-level function with similar flexibility) or `histplot` (an axes-level function for histograms).\n",
      "  warnings.warn(msg, FutureWarning)\n"
     ]
    },
    {
     "data": {
      "text/plain": [
       "<AxesSubplot:ylabel='Density'>"
      ]
     },
     "execution_count": 35,
     "metadata": {},
     "output_type": "execute_result"
    },
    {
     "data": {
      "image/png": "[encoded data removed]",
      "text/plain": [
       "<Figure size 432x288 with 1 Axes>"
      ]
     },
     "metadata": {
      "needs_background": "light"
     },
     "output_type": "display_data"
    }
   ],
   "source": [
    "seaborn.distplot(ping_dur)"
   ]
  },
  {
   "cell_type": "code",
   "execution_count": 36,
   "metadata": {},
   "outputs": [
    {
     "name": "stderr",
     "output_type": "stream",
     "text": [
      "C:\\Users\\corri\\AppData\\Local\\Packages\\PythonSoftwareFoundation.Python.3.9_qbz5n2kfra8p0\\LocalCache\\local-packages\\Python39\\site-packages\\seaborn\\distributions.py:2619: FutureWarning: `distplot` is a deprecated function and will be removed in a future version. Please adapt your code to use either `displot` (a figure-level function with similar flexibility) or `histplot` (an axes-level function for histograms).\n",
      "  warnings.warn(msg, FutureWarning)\n",
      "C:\\Users\\corri\\AppData\\Local\\Packages\\PythonSoftwareFoundation.Python.3.9_qbz5n2kfra8p0\\LocalCache\\local-packages\\Python39\\site-packages\\seaborn\\distributions.py:316: UserWarning: Dataset has 0 variance; skipping density estimate. Pass `warn_singular=False` to disable this warning.\n",
      "  warnings.warn(msg, UserWarning)\n"
     ]
    },
    {
     "data": {
      "text/plain": [
       "<AxesSubplot:ylabel='Density'>"
      ]
     },
     "execution_count": 36,
     "metadata": {},
     "output_type": "execute_result"
    },
    {
     "data": {
      "image/png": "[encoded data removed]",
      "text/plain": [
       "<Figure size 432x288 with 1 Axes>"
      ]
     },
     "metadata": {
      "needs_background": "light"
     },
     "output_type": "display_data"
    }
   ],
   "source": [
    "seaborn.distplot(heartbeat_dur)"
   ]
  },
  {
   "cell_type": "code",
   "execution_count": 43,
   "metadata": {},
   "outputs": [
    {
     "name": "stdout",
     "output_type": "stream",
     "text": [
      "dropped heartbeat at 0\n"
     ]
    }
   ],
   "source": [
    "#test for heartbeat drops\n",
    "keys = [x for x in heartbeat_hash.keys()]\n",
    "for key,val in enumerate(keys):\n",
    "    if (int(keys[int(key)-1]) - int(val) > 15000*1.5):\n",
    "        print(f\"dropped heartbeat at {key}\")"
   ]
  },
  {
   "cell_type": "code",
   "execution_count": null,
   "metadata": {},
   "outputs": [],
   "source": []
  },
  {
   "cell_type": "code",
   "execution_count": null,
   "metadata": {},
   "outputs": [],
   "source": []
  },
  {
   "cell_type": "code",
   "execution_count": null,
   "metadata": {},
   "outputs": [],
   "source": []
  },
  {
   "cell_type": "code",
   "execution_count": null,
   "metadata": {},
   "outputs": [],
   "source": []
  }
 ],
 "metadata": {
  "interpreter": {
   "hash": "805e687cf18b2a2013a19dc60b78eadfec8b16c75288841a699611c5b2e8ceec"
  },
  "kernelspec": {
   "display_name": "Python 3.9.9 64-bit (windows store)",
   "language": "python",
   "name": "python3"
  },
  "language_info": {
   "codemirror_mode": {
    "name": "ipython",
    "version": 3
   },
   "file_extension": ".py",
   "mimetype": "text/x-python",
   "name": "python",
   "nbconvert_exporter": "python",
   "pygments_lexer": "ipython3",
   "version": "3.9.9"
  },
  "orig_nbformat": 4
 },
 "nbformat": 4,
 "nbformat_minor": 2
}
