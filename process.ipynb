{
 "cells": [
  {
   "cell_type": "code",
   "execution_count": 5,
   "metadata": {},
   "outputs": [
    {
     "ename": "IndexError",
     "evalue": "list index out of range",
     "output_type": "error",
     "traceback": [
      "\u001b[1;31m---------------------------------------------------------------------------\u001b[0m",
      "\u001b[1;31mIndexError\u001b[0m                                Traceback (most recent call last)",
      "\u001b[1;32m~\\AppData\\Local\\Temp/ipykernel_15372/3304705408.py\u001b[0m in \u001b[0;36m<module>\u001b[1;34m\u001b[0m\n\u001b[0;32m      5\u001b[0m \u001b[1;32mfor\u001b[0m \u001b[0mi\u001b[0m \u001b[1;32min\u001b[0m \u001b[0mlines\u001b[0m\u001b[1;33m:\u001b[0m\u001b[1;33m\u001b[0m\u001b[1;33m\u001b[0m\u001b[0m\n\u001b[0;32m      6\u001b[0m     \u001b[0mlist\u001b[0m \u001b[1;33m=\u001b[0m \u001b[0mi\u001b[0m\u001b[1;33m.\u001b[0m\u001b[0msplit\u001b[0m\u001b[1;33m(\u001b[0m\u001b[1;34m', '\u001b[0m\u001b[1;33m)\u001b[0m\u001b[1;33m\u001b[0m\u001b[1;33m\u001b[0m\u001b[0m\n\u001b[1;32m----> 7\u001b[1;33m     \u001b[0mtupled\u001b[0m \u001b[1;33m=\u001b[0m \u001b[1;33m(\u001b[0m\u001b[0mlist\u001b[0m\u001b[1;33m[\u001b[0m\u001b[1;36m0\u001b[0m\u001b[1;33m]\u001b[0m\u001b[1;33m,\u001b[0m\u001b[0mlist\u001b[0m\u001b[1;33m[\u001b[0m\u001b[1;36m1\u001b[0m\u001b[1;33m]\u001b[0m\u001b[1;33m,\u001b[0m\u001b[0mlist\u001b[0m\u001b[1;33m[\u001b[0m\u001b[1;36m2\u001b[0m\u001b[1;33m]\u001b[0m\u001b[1;33m)\u001b[0m\u001b[1;33m\u001b[0m\u001b[1;33m\u001b[0m\u001b[0m\n\u001b[0m\u001b[0;32m      8\u001b[0m     \u001b[0mtupledLines\u001b[0m\u001b[1;33m.\u001b[0m\u001b[0mappend\u001b[0m\u001b[1;33m(\u001b[0m\u001b[0mtupled\u001b[0m\u001b[1;33m)\u001b[0m\u001b[1;33m\u001b[0m\u001b[1;33m\u001b[0m\u001b[0m\n",
      "\u001b[1;31mIndexError\u001b[0m: list index out of range"
     ]
    }
   ],
   "source": [
    "with open(\"bin/debug/net6.0/log.txt\",\"r\") as file:\n",
    "    data = file.read()\n",
    "lines = data.split(\"\\n\")\n",
    "tupledLines = []\n",
    "for i in lines:\n",
    "    list = i.split(', ')\n",
    "    tupled = (list[0],list[1],list[2])\n",
    "    tupledLines.append(tupled)"
   ]
  },
  {
   "cell_type": "code",
   "execution_count": 7,
   "metadata": {},
   "outputs": [
    {
     "ename": "SyntaxError",
     "evalue": "invalid syntax (Temp/ipykernel_15372/591258515.py, line 8)",
     "output_type": "error",
     "traceback": [
      "\u001b[1;36m  File \u001b[1;32m\"C:\\Users\\corri\\AppData\\Local\\Temp/ipykernel_15372/591258515.py\"\u001b[1;36m, line \u001b[1;32m8\u001b[0m\n\u001b[1;33m    output_hash[start_time] =\u001b[0m\n\u001b[1;37m                              ^\u001b[0m\n\u001b[1;31mSyntaxError\u001b[0m\u001b[1;31m:\u001b[0m invalid syntax\n"
     ]
    }
   ],
   "source": [
    "output_hash = {}\n",
    "for t in tupledLines:\n",
    "    task = t[0]\n",
    "    start_time = t[1]\n",
    "    duration = t[2]\n",
    "    current = output_hash[start_time]\n",
    "    if current:\n",
    "        output_hash[start_time] = "
   ]
  },
  {
   "cell_type": "code",
   "execution_count": 12,
   "metadata": {},
   "outputs": [
    {
     "ename": "KeyError",
     "evalue": "'1637652698604'",
     "output_type": "error",
     "traceback": [
      "\u001b[1;31m---------------------------------------------------------------------------\u001b[0m",
      "\u001b[1;31mKeyError\u001b[0m                                  Traceback (most recent call last)",
      "\u001b[1;32m~\\AppData\\Local\\Temp/ipykernel_15372/4098198876.py\u001b[0m in \u001b[0;36m<module>\u001b[1;34m\u001b[0m\n\u001b[0;32m      7\u001b[0m     \u001b[0mduration\u001b[0m \u001b[1;33m=\u001b[0m \u001b[0mt\u001b[0m\u001b[1;33m[\u001b[0m\u001b[1;36m2\u001b[0m\u001b[1;33m]\u001b[0m\u001b[1;33m\u001b[0m\u001b[1;33m\u001b[0m\u001b[0m\n\u001b[0;32m      8\u001b[0m     \u001b[0mthe_hash\u001b[0m \u001b[1;33m=\u001b[0m \u001b[1;33m{\u001b[0m\u001b[1;34m\"HeartBeat\"\u001b[0m\u001b[1;33m:\u001b[0m \u001b[0mheartbeat_hash\u001b[0m\u001b[1;33m,\u001b[0m \u001b[1;34m\"Web\"\u001b[0m\u001b[1;33m:\u001b[0m \u001b[0mweb_hash\u001b[0m\u001b[1;33m,\u001b[0m \u001b[1;34m\"LAN\"\u001b[0m\u001b[1;33m:\u001b[0m \u001b[0mlan_hash\u001b[0m\u001b[1;33m}\u001b[0m\u001b[1;33m\u001b[0m\u001b[1;33m\u001b[0m\u001b[0m\n\u001b[1;32m----> 9\u001b[1;33m     \u001b[0mthe_hash\u001b[0m \u001b[1;33m=\u001b[0m \u001b[0mthe_hash\u001b[0m\u001b[1;33m[\u001b[0m\u001b[0mstart_time\u001b[0m\u001b[1;33m]\u001b[0m\u001b[1;33m\u001b[0m\u001b[1;33m\u001b[0m\u001b[0m\n\u001b[0m\u001b[0;32m     10\u001b[0m     \u001b[1;32mif\u001b[0m \u001b[1;32mnot\u001b[0m \u001b[0mthe_hash\u001b[0m\u001b[1;33m:\u001b[0m\u001b[1;33m\u001b[0m\u001b[1;33m\u001b[0m\u001b[0m\n\u001b[0;32m     11\u001b[0m         \u001b[0mprint\u001b[0m\u001b[1;33m(\u001b[0m\u001b[1;34mf\"Unknown task: {task}\"\u001b[0m\u001b[1;33m)\u001b[0m\u001b[1;33m\u001b[0m\u001b[1;33m\u001b[0m\u001b[0m\n",
      "\u001b[1;31mKeyError\u001b[0m: '1637652698604'"
     ]
    }
   ],
   "source": [
    "heartbeat_hash = {}\n",
    "web_hash = {}\n",
    "lan_hash = {}\n",
    "for t in tupledLines:\n",
    "    task = t[0]\n",
    "    start_time = t[1]\n",
    "    duration = t[2]\n",
    "    the_hash = {\"HeartBeat\": heartbeat_hash, \"Web\": web_hash, \"LAN\": lan_hash}\n",
    "    the_hash = the_hash[start_time]\n",
    "    if not the_hash:\n",
    "        print(f\"Unknown task: {task}\")\n",
    "    else:\n",
    "        the_hash[start_time] = duration\n",
    "    print(the_hash)"
   ]
  },
  {
   "cell_type": "code",
   "execution_count": 9,
   "metadata": {},
   "outputs": [
    {
     "data": {
      "text/plain": [
       "{}"
      ]
     },
     "execution_count": 9,
     "metadata": {},
     "output_type": "execute_result"
    }
   ],
   "source": [
    "heartbeat_hash"
   ]
  },
  {
   "cell_type": "code",
   "execution_count": 22,
   "metadata": {},
   "outputs": [
    {
     "name": "stdout",
     "output_type": "stream",
     "text": [
      "\n"
     ]
    }
   ],
   "source": [
    "heartbeat_hash = {}\n",
    "web_hash = {}\n",
    "lan_hash = {}\n",
    "for t in tupledLines:\n",
    "    task = t[0]\n",
    "    start_time = t[1]\n",
    "    duration = t[2]\n",
    "    if task == \"HeartBeat\":\n",
    "        heartbeat_hash[start_time] = duration\n",
    "    elif task == \"Web\":\n",
    "        web_hash[start_time] = duration\n",
    "    elif task == \"LAN\":\n",
    "        lan_hash[start_time] = duration\n",
    "    else:\n",
    "        print(f\"Unknown task: {task}\")\n",
    "print(\"\")"
   ]
  },
  {
   "cell_type": "code",
   "execution_count": 23,
   "metadata": {},
   "outputs": [
    {
     "data": {
      "text/plain": [
       "{}"
      ]
     },
     "execution_count": 23,
     "metadata": {},
     "output_type": "execute_result"
    }
   ],
   "source": [
    "heartbeat_hash"
   ]
  },
  {
   "cell_type": "code",
   "execution_count": 16,
   "metadata": {},
   "outputs": [],
   "source": [
    "combined_hash = {}\n",
    "for st in heartbeat_hash.keys():\n",
    "    heartbeat = heartbeat_hash[st]\n",
    "    try:\n",
    "        lan = lan_hash[st]\n",
    "    except KeyError:\n",
    "        lan = None\n",
    "    try:\n",
    "        web = web_hash[st]\n",
    "    except KeyError:\n",
    "        web = None\n",
    "    t = (heartbeat,lan,web)\n",
    "    combined_hash[st] = t\n",
    "    \n"
   ]
  },
  {
   "cell_type": "code",
   "execution_count": 17,
   "metadata": {},
   "outputs": [
    {
     "data": {
      "text/plain": [
       "{}"
      ]
     },
     "execution_count": 17,
     "metadata": {},
     "output_type": "execute_result"
    }
   ],
   "source": [
    "combined_hash"
   ]
  },
  {
   "cell_type": "code",
   "execution_count": 20,
   "metadata": {},
   "outputs": [
    {
     "data": {
      "text/plain": [
       "{}"
      ]
     },
     "execution_count": 20,
     "metadata": {},
     "output_type": "execute_result"
    }
   ],
   "source": [
    "heartbeat_hash"
   ]
  },
  {
   "cell_type": "code",
   "execution_count": 21,
   "metadata": {},
   "outputs": [
    {
     "data": {
      "text/plain": [
       "{'1637652698604': '114',\n",
       " '1637652728616': '11',\n",
       " '1637652758622': '14',\n",
       " '1637652788624': '11',\n",
       " '1637652818634': '13',\n",
       " '1637652848637': '15',\n",
       " '1637652878645': '15',\n",
       " '1637652908650': '12',\n",
       " '1637652938658': '11',\n",
       " '1637652968664': '12',\n",
       " '1637652998672': '13',\n",
       " '1637653028682': '10',\n",
       " '1637653058690': '10',\n",
       " '1637653088695': '11',\n",
       " '1637653118699': '9',\n",
       " '1637653148712': '11',\n",
       " '1637653178723': '12',\n",
       " '1637653208733': '9',\n",
       " '1637653238748': '10',\n",
       " '1637653268754': '12',\n",
       " '1637653298764': '11',\n",
       " '1637653328766': '14',\n",
       " '1637653358783': '16',\n",
       " '1637653388799': '10',\n",
       " '1637653418805': '12',\n",
       " '1637653448807': '12',\n",
       " '1637653478813': '12',\n",
       " '1637653508818': '11',\n",
       " '1637653538829': '10',\n",
       " '1637653568831': '15',\n",
       " '1637653598847': '10',\n",
       " '1637653628857': '13',\n",
       " '1637653658862': '9',\n",
       " '1637653688870': '10',\n",
       " '1637653718874': '12',\n",
       " '1637653748887': '8',\n",
       " '1637653778893': '11',\n",
       " '1637653808897': '18',\n",
       " '1637653838912': '15',\n",
       " '1637653868916': '12',\n",
       " '1637653898927': '12',\n",
       " '1637653928936': '11',\n",
       " '1637653958946': '11',\n",
       " '1637653988958': '10',\n",
       " '1637654018960': '13',\n",
       " '1637655452312': '118',\n",
       " '1637655482328': '15',\n",
       " '1637655512341': '12',\n",
       " '1637655542347': '13',\n",
       " '1637655572360': '14',\n",
       " '1637655602366': '16',\n",
       " '1637655632381': '17',\n",
       " '1637655662395': '11',\n",
       " '1637655692409': '14',\n",
       " '1637655722425': '14',\n",
       " '1637655752428': '22'}"
      ]
     },
     "execution_count": 21,
     "metadata": {},
     "output_type": "execute_result"
    }
   ],
   "source": [
    "web_hash"
   ]
  },
  {
   "cell_type": "code",
   "execution_count": null,
   "metadata": {},
   "outputs": [],
   "source": []
  }
 ],
 "metadata": {
  "interpreter": {
   "hash": "805e687cf18b2a2013a19dc60b78eadfec8b16c75288841a699611c5b2e8ceec"
  },
  "kernelspec": {
   "display_name": "Python 3.9.9 64-bit (windows store)",
   "language": "python",
   "name": "python3"
  },
  "language_info": {
   "codemirror_mode": {
    "name": "ipython",
    "version": 3
   },
   "file_extension": ".py",
   "mimetype": "text/x-python",
   "name": "python",
   "nbconvert_exporter": "python",
   "pygments_lexer": "ipython3",
   "version": "3.9.9"
  },
  "orig_nbformat": 4
 },
 "nbformat": 4,
 "nbformat_minor": 2
}
