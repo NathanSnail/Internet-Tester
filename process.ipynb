{
 "cells": [
  {
   "cell_type": "code",
   "execution_count": 3,
   "metadata": {},
   "outputs": [
    {
     "name": "stdout",
     "output_type": "stream",
     "text": [
      "\n",
      "Data loaded\n"
     ]
    }
   ],
   "source": [
    "with open(\"bin/debug/net6.0/log.txt\",\"r\") as file:\n",
    "    data = file.read()\n",
    "lines = data.split(\"\\n\")\n",
    "tupledLines = []\n",
    "for i in lines:\n",
    "    list = i.split(', ')\n",
    "    try:\n",
    "        tupled = (list[0],list[1],list[2])\n",
    "    except IndexError:\n",
    "        print(i)\n",
    "    tupledLines.append(tupled)\n",
    "print(\"Data loaded\")"
   ]
  },
  {
   "cell_type": "code",
   "execution_count": 4,
   "metadata": {},
   "outputs": [
    {
     "name": "stdout",
     "output_type": "stream",
     "text": [
      "\n"
     ]
    }
   ],
   "source": [
    "heartbeat_hash = {}\n",
    "web_hash = {}\n",
    "lan_hash = {}\n",
    "for t in tupledLines:\n",
    "    task = t[0]\n",
    "    start_time = t[1]\n",
    "    duration = t[2]\n",
    "    if task == \"Heart Beat\":\n",
    "        heartbeat_hash[start_time] = duration\n",
    "    elif task == \"Web\":\n",
    "        web_hash[start_time] = duration\n",
    "    elif task == \"LAN\":\n",
    "        lan_hash[start_time] = duration\n",
    "    else:\n",
    "        print(f\"Unknown task: {task}\")\n",
    "print(\"\")"
   ]
  },
  {
   "cell_type": "code",
   "execution_count": 5,
   "metadata": {},
   "outputs": [
    {
     "name": "stdout",
     "output_type": "stream",
     "text": [
      "Dropping row 1637655782431\n"
     ]
    }
   ],
   "source": [
    "combined_hash = {}\n",
    "for st in heartbeat_hash.keys():\n",
    "    heartbeat = heartbeat_hash[st]\n",
    "    try:\n",
    "        lan = lan_hash[st]\n",
    "    except KeyError:\n",
    "        lan = None\n",
    "    try:\n",
    "        web = web_hash[st]\n",
    "    except KeyError:\n",
    "        web = None\n",
    "    t = (heartbeat,lan,web)\n",
    "    if t == (\"0\",None,None):\n",
    "        print(f\"Dropping row {st}\")\n",
    "    else:\n",
    "        combined_hash[st] = t\n",
    "    \n"
   ]
  },
  {
   "cell_type": "code",
   "execution_count": null,
   "metadata": {},
   "outputs": [],
   "source": [
    "combined_hash"
   ]
  }
 ],
 "metadata": {
  "interpreter": {
   "hash": "805e687cf18b2a2013a19dc60b78eadfec8b16c75288841a699611c5b2e8ceec"
  },
  "kernelspec": {
   "display_name": "Python 3.9.9 64-bit (windows store)",
   "language": "python",
   "name": "python3"
  },
  "language_info": {
   "codemirror_mode": {
    "name": "ipython",
    "version": 3
   },
   "file_extension": ".py",
   "mimetype": "text/x-python",
   "name": "python",
   "nbconvert_exporter": "python",
   "pygments_lexer": "ipython3",
   "version": "3.9.9"
  },
  "orig_nbformat": 4
 },
 "nbformat": 4,
 "nbformat_minor": 2
}
